{
 "cells": [
  {
   "cell_type": "code",
   "execution_count": 5,
   "metadata": {},
   "outputs": [
    {
     "name": "stdout",
     "output_type": "stream",
     "text": [
      "Enter the root node:\n",
      "Enter the number of children for the root node:\n",
      "Enter the child node:\n",
      "Enter the child node:\n",
      "data\n",
      "test1\n",
      "test2\n"
     ]
    }
   ],
   "source": [
    "import matplotlib.pyplot as plt\n",
    "import numpy as np\n",
    "\n",
    "#Create an N-ary tree structure\n",
    "class Node:\n",
    "    def __init__(self, data):\n",
    "        self.data = data\n",
    "        self.children = []\n",
    "\n",
    "    def add_child(self, obj):\n",
    "        self.children.append(obj)\n",
    "\n",
    "    def print_tree(self):\n",
    "        print(self.data)\n",
    "        for child in self.children:\n",
    "            child.print_tree()\n",
    "\n",
    "#Allow a user to input a tree structure\n",
    "def create_tree():\n",
    "    print(\"Enter the root node:\")\n",
    "    root = Node(input())\n",
    "    print(\"Enter the number of children for the root node:\")\n",
    "    num_children = int(input())\n",
    "    for i in range(num_children):\n",
    "        print(\"Enter the child node:\")\n",
    "        child = Node(input())\n",
    "        root.add_child(child)\n",
    "    return root\n",
    "\n",
    "root = create_tree()\n",
    "root.print_tree()\n"
   ]
  },
  {
   "cell_type": "code",
   "execution_count": null,
   "metadata": {},
   "outputs": [],
   "source": []
  }
 ],
 "metadata": {
  "kernelspec": {
   "display_name": "Python 3",
   "language": "python",
   "name": "python3"
  },
  "language_info": {
   "codemirror_mode": {
    "name": "ipython",
    "version": 3
   },
   "file_extension": ".py",
   "mimetype": "text/x-python",
   "name": "python",
   "nbconvert_exporter": "python",
   "pygments_lexer": "ipython3",
   "version": "3.11.3"
  },
  "orig_nbformat": 4
 },
 "nbformat": 4,
 "nbformat_minor": 2
}
